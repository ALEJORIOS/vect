{
 "metadata": {
  "language_info": {
   "codemirror_mode": {
    "name": "ipython",
    "version": 3
   },
   "file_extension": ".py",
   "mimetype": "text/x-python",
   "name": "python",
   "nbconvert_exporter": "python",
   "pygments_lexer": "ipython3",
   "version": "3.9.1-final"
  },
  "orig_nbformat": 2,
  "kernelspec": {
   "name": "python3",
   "display_name": "Python 3.9.1 64-bit",
   "metadata": {
    "interpreter": {
     "hash": "573b95b83d2b17fa7764fa617f711a185e49f5c7d43771edbc7924a6f50326ce"
    }
   }
  }
 },
 "nbformat": 4,
 "nbformat_minor": 2,
 "cells": [
  {
   "source": [
    "# Vector Example"
   ],
   "cell_type": "markdown",
   "metadata": {}
  },
  {
   "source": [
    "### First of all you need to import vect library"
   ],
   "cell_type": "markdown",
   "metadata": {}
  },
  {
   "cell_type": "code",
   "execution_count": 6,
   "metadata": {},
   "outputs": [],
   "source": [
    "import vect"
   ]
  },
  {
   "source": [
    "### You can create a vector with a simple list"
   ],
   "cell_type": "markdown",
   "metadata": {}
  },
  {
   "cell_type": "code",
   "execution_count": 9,
   "metadata": {},
   "outputs": [
    {
     "output_type": "stream",
     "name": "stdout",
     "text": [
      "[1, 2, 3, 4, 5]\n"
     ]
    }
   ],
   "source": [
    "l = [1,2,3,4,5]\n",
    "v = vect.array(l)\n",
    "print(v)"
   ]
  },
  {
   "source": [
    "The vector v looks like the list l but now it has the array type, this type allows get the most out the features of vect"
   ],
   "cell_type": "markdown",
   "metadata": {}
  }
 ]
}